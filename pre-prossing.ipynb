{
 "cells": [
  {
   "cell_type": "code",
   "execution_count": 26,
   "id": "715a417f-2161-4aae-9ed3-2e54cea74886",
   "metadata": {},
   "outputs": [],
   "source": [
    "import pandas as pd\n",
    "import re\n",
    "import nltk\n",
    "from nltk.stem import PorterStemmer\n",
    "from nltk.corpus import stopwords\n",
    "from nltk.tokenize import word_tokenize"
   ]
  },
  {
   "cell_type": "code",
   "execution_count": 27,
   "id": "1d323747-90dd-4afb-8e5d-8be5e805c350",
   "metadata": {},
   "outputs": [
    {
     "name": "stderr",
     "output_type": "stream",
     "text": [
      "[nltk_data] Downloading package punkt to\n",
      "[nltk_data]     C:\\Users\\hp\\AppData\\Roaming\\nltk_data...\n",
      "[nltk_data]   Package punkt is already up-to-date!\n",
      "[nltk_data] Downloading package stopwords to\n",
      "[nltk_data]     C:\\Users\\hp\\AppData\\Roaming\\nltk_data...\n",
      "[nltk_data]   Package stopwords is already up-to-date!\n"
     ]
    },
    {
     "data": {
      "text/plain": [
       "True"
      ]
     },
     "execution_count": 27,
     "metadata": {},
     "output_type": "execute_result"
    }
   ],
   "source": [
    "# تحميل الموارد المطلوبة\n",
    "nltk.download('punkt')\n",
    "nltk.download('stopwords')"
   ]
  },
  {
   "cell_type": "code",
   "execution_count": 28,
   "id": "0bb43e4d-f86d-4d2f-961f-734bb43b2d8c",
   "metadata": {},
   "outputs": [
    {
     "name": "stdout",
     "output_type": "stream",
     "text": [
      "                                                   text  \\\n",
      "0     mutant book wins guardian prize a book about t...   \n",
      "1     running around the olympics it was back to off...   \n",
      "2     parker misses england clash tom shanklin will ...   \n",
      "3     munster cup tie switched to spain munster s he...   \n",
      "4     cyber crime booms in 2004 the last 12 months h...   \n",
      "...                                                 ...   \n",
      "2220  smart search lets art fans browse if you don t...   \n",
      "2221  clijsters hope on aussie open kim clijsters ha...   \n",
      "2222  mps quiz aides over royal income senior offici...   \n",
      "2223  podcasters  look to net money nasa is doing it...   \n",
      "2224  bargain calls widen softbank loss japanese com...   \n",
      "\n",
      "                                           final_result  \n",
      "0     mutant book win guardian prize book evolut mut...  \n",
      "1     run around olymp back offici duti last week ro...  \n",
      "2     parker miss england clash tom shanklin start c...  \n",
      "3     munster cup tie switch spain munster heineken ...  \n",
      "4     cyber crime boom 2004 last 12 month seen drama...  \n",
      "...                                                 ...  \n",
      "2220  smart search let art fan brows know art know l...  \n",
      "2221  clijster hope aussi open kim clijster deni rep...  \n",
      "2222  mp quiz aid royal incom senior offici two bodi...  \n",
      "2223  podcast look net money nasa 14yearold boy bedr...  \n",
      "2224  bargain call widen softbank loss japanes commu...  \n",
      "\n",
      "[2225 rows x 2 columns]\n"
     ]
    }
   ],
   "source": [
    "\n",
    "# إعداد الستيمينغ والكلمات الشائعة\n",
    "stemmer = PorterStemmer()\n",
    "stop_words = set(stopwords.words('english'))  # يمكنك تغيير اللغة حسب الحاجة\n",
    "\n",
    "def clean_text(text):\n",
    "    # إزالة الأحرف غير المرغوب فيها\n",
    "    text = re.sub(r'[^a-zA-Z0-9\\s]', '', text)\n",
    "    \n",
    "    # تحويل النص إلى حروف صغيرة\n",
    "    text = text.lower()\n",
    "    \n",
    "    # تقسيم النص إلى كلمات\n",
    "    tokens = word_tokenize(text)\n",
    "    \n",
    "    # إزالة الكلمات الشائعة\n",
    "    filtered_tokens = [word for word in tokens if word not in stop_words]\n",
    "    \n",
    "    # تطبيق الستيمينغ\n",
    "    stemmed_words = [stemmer.stem(word) for word in filtered_tokens]\n",
    "    \n",
    "    return ' '.join(stemmed_words)\n",
    "\n",
    "# قراءة البيانات من ملف Excel\n",
    "file_path = r'C:\\Users\\hp\\Desktop\\‏‏‏‏BBC news.xlsx' # تأكد من تعديل المسار حسب الحاجة\n",
    "data = pd.read_excel(file_path)\n",
    "\n",
    "# افترض أن العمود الذي يحتوي على النص هو \"text\"\n",
    "# يمكنك تعديل اسم العمود حسب الحاجة\n",
    "data['final_result'] = data['text'].apply(clean_text)\n",
    "\n",
    "# عرض النتائج\n",
    "print(data[['text', 'final_result']])"
   ]
  },
  {
   "cell_type": "code",
   "execution_count": 29,
   "id": "928f6ce8-d58d-401c-88be-b8f9c12c7ef4",
   "metadata": {},
   "outputs": [
    {
     "name": "stdout",
     "output_type": "stream",
     "text": [
      "تم حفظ التعديلات في الملف: C:\\Users\\hp\\Desktop\\Data Pr-prossing.xlsx\n"
     ]
    }
   ],
   "source": [
    "# حفظ التعديلات في ملف Excel جديد أو الكتابة فوق الملف الأصلي\n",
    "output_file_path = r'C:\\Users\\hp\\Desktop\\Data Pr-prossing.xlsx'\n",
    "data.to_excel(output_file_path, index=False)\n",
    "\n",
    "print(\"تم حفظ التعديلات في الملف:\", output_file_path)"
   ]
  },
  {
   "cell_type": "code",
   "execution_count": null,
   "id": "dba93e3f-e3ff-45cc-bdb5-b2773ed12473",
   "metadata": {},
   "outputs": [],
   "source": []
  }
 ],
 "metadata": {
  "kernelspec": {
   "display_name": "Python 3 (ipykernel)",
   "language": "python",
   "name": "python3"
  },
  "language_info": {
   "codemirror_mode": {
    "name": "ipython",
    "version": 3
   },
   "file_extension": ".py",
   "mimetype": "text/x-python",
   "name": "python",
   "nbconvert_exporter": "python",
   "pygments_lexer": "ipython3",
   "version": "3.12.4"
  }
 },
 "nbformat": 4,
 "nbformat_minor": 5
}
