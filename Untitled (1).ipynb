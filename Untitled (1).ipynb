{
 "cells": [
  {
   "cell_type": "code",
   "execution_count": 392,
   "id": "c0587eb5-945e-4b7b-a5c9-906a254af92b",
   "metadata": {},
   "outputs": [
    {
     "name": "stderr",
     "output_type": "stream",
     "text": [
      "[nltk_data] Downloading package punkt to\n",
      "[nltk_data]     C:\\Users\\hp\\AppData\\Roaming\\nltk_data...\n",
      "[nltk_data]   Package punkt is already up-to-date!\n"
     ]
    },
    {
     "data": {
      "text/plain": [
       "True"
      ]
     },
     "execution_count": 392,
     "metadata": {},
     "output_type": "execute_result"
    }
   ],
   "source": [
    "#laibraries import\n",
    "import pandas as pd #Data manipulation\n",
    "import re\n",
    "import string  #Remove punctuation & characters\n",
    "import nltk #Natural language processing \n",
    "\n",
    "from nltk.corpus import stopwords  #Stop word removal\n",
    "from nltk.tokenize import word_tokenize  #Tokenizition\n",
    "from nltk.stem import PorterStemmer  #Stemming\n",
    "#علشان اتأكد من تحميل الموارد المطلوبة\n",
    "nltk.download('punkt')"
   ]
  },
  {
   "cell_type": "code",
   "execution_count": 393,
   "id": "eb4270ae-d728-43db-93da-5f2fe396220a",
   "metadata": {},
   "outputs": [],
   "source": [
    "#read the fiel\n",
    "data = pd.read_excel(r'C:\\Users\\hp\\Desktop\\‏‏‏‏BBC news 3.xlsx') "
   ]
  },
  {
   "cell_type": "code",
   "execution_count": 394,
   "id": "39a2de22-6e8d-4388-90c8-c6299033f741",
   "metadata": {},
   "outputs": [
    {
     "data": {
      "text/html": [
       "<div>\n",
       "<style scoped>\n",
       "    .dataframe tbody tr th:only-of-type {\n",
       "        vertical-align: middle;\n",
       "    }\n",
       "\n",
       "    .dataframe tbody tr th {\n",
       "        vertical-align: top;\n",
       "    }\n",
       "\n",
       "    .dataframe thead th {\n",
       "        text-align: right;\n",
       "    }\n",
       "</style>\n",
       "<table border=\"1\" class=\"dataframe\">\n",
       "  <thead>\n",
       "    <tr style=\"text-align: right;\">\n",
       "      <th></th>\n",
       "      <th>value</th>\n",
       "      <th>category</th>\n",
       "      <th>text</th>\n",
       "    </tr>\n",
       "  </thead>\n",
       "  <tbody>\n",
       "    <tr>\n",
       "      <th>0</th>\n",
       "      <td>2</td>\n",
       "      <td>politics</td>\n",
       "      <td>mutant BOOKS????       ? wins guardian prize a...</td>\n",
       "    </tr>\n",
       "    <tr>\n",
       "      <th>1</th>\n",
       "      <td>3</td>\n",
       "      <td>sport</td>\n",
       "      <td>running around the olympics it was back to off...</td>\n",
       "    </tr>\n",
       "    <tr>\n",
       "      <th>2</th>\n",
       "      <td>1</td>\n",
       "      <td>entertainment</td>\n",
       "      <td>parker misses england clash tom shanklin will ...</td>\n",
       "    </tr>\n",
       "    <tr>\n",
       "      <th>3</th>\n",
       "      <td>1</td>\n",
       "      <td>entertainment</td>\n",
       "      <td>munster cup tie switched to spain munster s he...</td>\n",
       "    </tr>\n",
       "    <tr>\n",
       "      <th>4</th>\n",
       "      <td>4</td>\n",
       "      <td>tech</td>\n",
       "      <td>cyber crime booms in 2004 the last 12 months h...</td>\n",
       "    </tr>\n",
       "  </tbody>\n",
       "</table>\n",
       "</div>"
      ],
      "text/plain": [
       "   value       category                                               text\n",
       "0      2       politics  mutant BOOKS????       ? wins guardian prize a...\n",
       "1      3          sport  running around the olympics it was back to off...\n",
       "2      1  entertainment  parker misses england clash tom shanklin will ...\n",
       "3      1  entertainment  munster cup tie switched to spain munster s he...\n",
       "4      4           tech  cyber crime booms in 2004 the last 12 months h..."
      ]
     },
     "execution_count": 394,
     "metadata": {},
     "output_type": "execute_result"
    }
   ],
   "source": [
    "#show data\n",
    "data.head()"
   ]
  },
  {
   "cell_type": "code",
   "execution_count": 395,
   "id": "98f79d80-7c13-458a-b0c3-68bb77ffc367",
   "metadata": {},
   "outputs": [],
   "source": [
    "#تحويل الحروف الكبيرة الى صغيرة\n",
    "data['text'] = data ['text'].str.lower()"
   ]
  },
  {
   "cell_type": "code",
   "execution_count": 396,
   "id": "477918e0-6419-4fdb-a7dc-353508370e41",
   "metadata": {},
   "outputs": [
    {
     "data": {
      "text/html": [
       "<div>\n",
       "<style scoped>\n",
       "    .dataframe tbody tr th:only-of-type {\n",
       "        vertical-align: middle;\n",
       "    }\n",
       "\n",
       "    .dataframe tbody tr th {\n",
       "        vertical-align: top;\n",
       "    }\n",
       "\n",
       "    .dataframe thead th {\n",
       "        text-align: right;\n",
       "    }\n",
       "</style>\n",
       "<table border=\"1\" class=\"dataframe\">\n",
       "  <thead>\n",
       "    <tr style=\"text-align: right;\">\n",
       "      <th></th>\n",
       "      <th>value</th>\n",
       "      <th>category</th>\n",
       "      <th>text</th>\n",
       "    </tr>\n",
       "  </thead>\n",
       "  <tbody>\n",
       "    <tr>\n",
       "      <th>0</th>\n",
       "      <td>2</td>\n",
       "      <td>politics</td>\n",
       "      <td>mutant books????       ? wins guardian prize a...</td>\n",
       "    </tr>\n",
       "    <tr>\n",
       "      <th>1</th>\n",
       "      <td>3</td>\n",
       "      <td>sport</td>\n",
       "      <td>running around the olympics it was back to off...</td>\n",
       "    </tr>\n",
       "    <tr>\n",
       "      <th>2</th>\n",
       "      <td>1</td>\n",
       "      <td>entertainment</td>\n",
       "      <td>parker misses england clash tom shanklin will ...</td>\n",
       "    </tr>\n",
       "    <tr>\n",
       "      <th>3</th>\n",
       "      <td>1</td>\n",
       "      <td>entertainment</td>\n",
       "      <td>munster cup tie switched to spain munster s he...</td>\n",
       "    </tr>\n",
       "    <tr>\n",
       "      <th>4</th>\n",
       "      <td>4</td>\n",
       "      <td>tech</td>\n",
       "      <td>cyber crime booms in 2004 the last 12 months h...</td>\n",
       "    </tr>\n",
       "  </tbody>\n",
       "</table>\n",
       "</div>"
      ],
      "text/plain": [
       "   value       category                                               text\n",
       "0      2       politics  mutant books????       ? wins guardian prize a...\n",
       "1      3          sport  running around the olympics it was back to off...\n",
       "2      1  entertainment  parker misses england clash tom shanklin will ...\n",
       "3      1  entertainment  munster cup tie switched to spain munster s he...\n",
       "4      4           tech  cyber crime booms in 2004 the last 12 months h..."
      ]
     },
     "execution_count": 396,
     "metadata": {},
     "output_type": "execute_result"
    }
   ],
   "source": [
    "data.head()"
   ]
  },
  {
   "cell_type": "code",
   "execution_count": 397,
   "id": "a3f86c48-57c2-4d85-91d5-c4b5cdbc9b5a",
   "metadata": {},
   "outputs": [],
   "source": [
    "#ازالة علامات الترقيم من النص\n",
    "data['text']= data['text'].str.replace(f'[{string.punctuation}]', '', regex=True)"
   ]
  },
  {
   "cell_type": "code",
   "execution_count": 398,
   "id": "c570069b-4a8b-4920-b55a-df60dd7ed027",
   "metadata": {},
   "outputs": [
    {
     "data": {
      "text/html": [
       "<div>\n",
       "<style scoped>\n",
       "    .dataframe tbody tr th:only-of-type {\n",
       "        vertical-align: middle;\n",
       "    }\n",
       "\n",
       "    .dataframe tbody tr th {\n",
       "        vertical-align: top;\n",
       "    }\n",
       "\n",
       "    .dataframe thead th {\n",
       "        text-align: right;\n",
       "    }\n",
       "</style>\n",
       "<table border=\"1\" class=\"dataframe\">\n",
       "  <thead>\n",
       "    <tr style=\"text-align: right;\">\n",
       "      <th></th>\n",
       "      <th>value</th>\n",
       "      <th>category</th>\n",
       "      <th>text</th>\n",
       "    </tr>\n",
       "  </thead>\n",
       "  <tbody>\n",
       "    <tr>\n",
       "      <th>0</th>\n",
       "      <td>2</td>\n",
       "      <td>politics</td>\n",
       "      <td>mutant books        wins guardian prize a book...</td>\n",
       "    </tr>\n",
       "    <tr>\n",
       "      <th>1</th>\n",
       "      <td>3</td>\n",
       "      <td>sport</td>\n",
       "      <td>running around the olympics it was back to off...</td>\n",
       "    </tr>\n",
       "    <tr>\n",
       "      <th>2</th>\n",
       "      <td>1</td>\n",
       "      <td>entertainment</td>\n",
       "      <td>parker misses england clash tom shanklin will ...</td>\n",
       "    </tr>\n",
       "    <tr>\n",
       "      <th>3</th>\n",
       "      <td>1</td>\n",
       "      <td>entertainment</td>\n",
       "      <td>munster cup tie switched to spain munster s he...</td>\n",
       "    </tr>\n",
       "    <tr>\n",
       "      <th>4</th>\n",
       "      <td>4</td>\n",
       "      <td>tech</td>\n",
       "      <td>cyber crime booms in 2004 the last 12 months h...</td>\n",
       "    </tr>\n",
       "  </tbody>\n",
       "</table>\n",
       "</div>"
      ],
      "text/plain": [
       "   value       category                                               text\n",
       "0      2       politics  mutant books        wins guardian prize a book...\n",
       "1      3          sport  running around the olympics it was back to off...\n",
       "2      1  entertainment  parker misses england clash tom shanklin will ...\n",
       "3      1  entertainment  munster cup tie switched to spain munster s he...\n",
       "4      4           tech  cyber crime booms in 2004 the last 12 months h..."
      ]
     },
     "execution_count": 398,
     "metadata": {},
     "output_type": "execute_result"
    }
   ],
   "source": [
    "data.head()"
   ]
  },
  {
   "cell_type": "code",
   "execution_count": 399,
   "id": "844e502b-65bd-46c4-8970-dc91ffde84ed",
   "metadata": {},
   "outputs": [],
   "source": [
    "#ازالة المسافات الزائدة على عمود محدد\n",
    "data['text'] = data['text'].str.strip()"
   ]
  },
  {
   "cell_type": "code",
   "execution_count": 400,
   "id": "22ce91c5-118c-4ff5-b0e7-5bc1090760e3",
   "metadata": {},
   "outputs": [
    {
     "data": {
      "text/html": [
       "<div>\n",
       "<style scoped>\n",
       "    .dataframe tbody tr th:only-of-type {\n",
       "        vertical-align: middle;\n",
       "    }\n",
       "\n",
       "    .dataframe tbody tr th {\n",
       "        vertical-align: top;\n",
       "    }\n",
       "\n",
       "    .dataframe thead th {\n",
       "        text-align: right;\n",
       "    }\n",
       "</style>\n",
       "<table border=\"1\" class=\"dataframe\">\n",
       "  <thead>\n",
       "    <tr style=\"text-align: right;\">\n",
       "      <th></th>\n",
       "      <th>value</th>\n",
       "      <th>category</th>\n",
       "      <th>text</th>\n",
       "    </tr>\n",
       "  </thead>\n",
       "  <tbody>\n",
       "    <tr>\n",
       "      <th>0</th>\n",
       "      <td>2</td>\n",
       "      <td>politics</td>\n",
       "      <td>mutant books        wins guardian prize a book...</td>\n",
       "    </tr>\n",
       "    <tr>\n",
       "      <th>1</th>\n",
       "      <td>3</td>\n",
       "      <td>sport</td>\n",
       "      <td>running around the olympics it was back to off...</td>\n",
       "    </tr>\n",
       "    <tr>\n",
       "      <th>2</th>\n",
       "      <td>1</td>\n",
       "      <td>entertainment</td>\n",
       "      <td>parker misses england clash tom shanklin will ...</td>\n",
       "    </tr>\n",
       "    <tr>\n",
       "      <th>3</th>\n",
       "      <td>1</td>\n",
       "      <td>entertainment</td>\n",
       "      <td>munster cup tie switched to spain munster s he...</td>\n",
       "    </tr>\n",
       "    <tr>\n",
       "      <th>4</th>\n",
       "      <td>4</td>\n",
       "      <td>tech</td>\n",
       "      <td>cyber crime booms in 2004 the last 12 months h...</td>\n",
       "    </tr>\n",
       "  </tbody>\n",
       "</table>\n",
       "</div>"
      ],
      "text/plain": [
       "   value       category                                               text\n",
       "0      2       politics  mutant books        wins guardian prize a book...\n",
       "1      3          sport  running around the olympics it was back to off...\n",
       "2      1  entertainment  parker misses england clash tom shanklin will ...\n",
       "3      1  entertainment  munster cup tie switched to spain munster s he...\n",
       "4      4           tech  cyber crime booms in 2004 the last 12 months h..."
      ]
     },
     "execution_count": 400,
     "metadata": {},
     "output_type": "execute_result"
    }
   ],
   "source": [
    "data.head()"
   ]
  },
  {
   "cell_type": "code",
   "execution_count": 401,
   "id": "42750881-d4ed-4615-b6b7-0bf88ea45136",
   "metadata": {},
   "outputs": [],
   "source": [
    "#ازالة الاحرف الغير مرغوب بها\n",
    "def remove_unwanted_characters(text):\n",
    "    return re.sub(r'[^a-zA-Z0-9\\s]', '', text)"
   ]
  },
  {
   "cell_type": "code",
   "execution_count": 402,
   "id": "a288ba1d-c899-43ef-a793-08c39f8d58a1",
   "metadata": {},
   "outputs": [],
   "source": [
    "data ['text'] = data['text'].apply(remove_unwanted_characters)"
   ]
  },
  {
   "cell_type": "code",
   "execution_count": 403,
   "id": "af1ccdb6-5e4e-41a9-a7ea-11052028b015",
   "metadata": {},
   "outputs": [
    {
     "data": {
      "text/html": [
       "<div>\n",
       "<style scoped>\n",
       "    .dataframe tbody tr th:only-of-type {\n",
       "        vertical-align: middle;\n",
       "    }\n",
       "\n",
       "    .dataframe tbody tr th {\n",
       "        vertical-align: top;\n",
       "    }\n",
       "\n",
       "    .dataframe thead th {\n",
       "        text-align: right;\n",
       "    }\n",
       "</style>\n",
       "<table border=\"1\" class=\"dataframe\">\n",
       "  <thead>\n",
       "    <tr style=\"text-align: right;\">\n",
       "      <th></th>\n",
       "      <th>value</th>\n",
       "      <th>category</th>\n",
       "      <th>text</th>\n",
       "    </tr>\n",
       "  </thead>\n",
       "  <tbody>\n",
       "    <tr>\n",
       "      <th>0</th>\n",
       "      <td>2</td>\n",
       "      <td>politics</td>\n",
       "      <td>mutant books        wins guardian prize a book...</td>\n",
       "    </tr>\n",
       "    <tr>\n",
       "      <th>1</th>\n",
       "      <td>3</td>\n",
       "      <td>sport</td>\n",
       "      <td>running around the olympics it was back to off...</td>\n",
       "    </tr>\n",
       "    <tr>\n",
       "      <th>2</th>\n",
       "      <td>1</td>\n",
       "      <td>entertainment</td>\n",
       "      <td>parker misses england clash tom shanklin will ...</td>\n",
       "    </tr>\n",
       "    <tr>\n",
       "      <th>3</th>\n",
       "      <td>1</td>\n",
       "      <td>entertainment</td>\n",
       "      <td>munster cup tie switched to spain munster s he...</td>\n",
       "    </tr>\n",
       "    <tr>\n",
       "      <th>4</th>\n",
       "      <td>4</td>\n",
       "      <td>tech</td>\n",
       "      <td>cyber crime booms in 2004 the last 12 months h...</td>\n",
       "    </tr>\n",
       "  </tbody>\n",
       "</table>\n",
       "</div>"
      ],
      "text/plain": [
       "   value       category                                               text\n",
       "0      2       politics  mutant books        wins guardian prize a book...\n",
       "1      3          sport  running around the olympics it was back to off...\n",
       "2      1  entertainment  parker misses england clash tom shanklin will ...\n",
       "3      1  entertainment  munster cup tie switched to spain munster s he...\n",
       "4      4           tech  cyber crime booms in 2004 the last 12 months h..."
      ]
     },
     "execution_count": 403,
     "metadata": {},
     "output_type": "execute_result"
    }
   ],
   "source": [
    "data.head()"
   ]
  },
  {
   "cell_type": "code",
   "execution_count": 404,
   "id": "7fea5f27-c6f7-4dc8-9845-d62fcf8b4a48",
   "metadata": {},
   "outputs": [],
   "source": [
    "#Stemming\n",
    "#تهيئة  \n",
    "stemmer = PorterStemmer()\n",
    "\n",
    "#Function \n",
    "def stem_words(text):\n",
    "    return ' '.join(stemmer.stem(word) for word in nltk.word_tokenize(text))\n",
    "\n",
    "# تنفيذ الـ stemming على عمود tokens\n",
    "data['text'] = data['text'].apply(stem_words)"
   ]
  },
  {
   "cell_type": "code",
   "execution_count": 405,
   "id": "0514ddc2-0bd5-4f6b-aefe-3f69df353b0c",
   "metadata": {},
   "outputs": [
    {
     "data": {
      "text/html": [
       "<div>\n",
       "<style scoped>\n",
       "    .dataframe tbody tr th:only-of-type {\n",
       "        vertical-align: middle;\n",
       "    }\n",
       "\n",
       "    .dataframe tbody tr th {\n",
       "        vertical-align: top;\n",
       "    }\n",
       "\n",
       "    .dataframe thead th {\n",
       "        text-align: right;\n",
       "    }\n",
       "</style>\n",
       "<table border=\"1\" class=\"dataframe\">\n",
       "  <thead>\n",
       "    <tr style=\"text-align: right;\">\n",
       "      <th></th>\n",
       "      <th>value</th>\n",
       "      <th>category</th>\n",
       "      <th>text</th>\n",
       "    </tr>\n",
       "  </thead>\n",
       "  <tbody>\n",
       "    <tr>\n",
       "      <th>0</th>\n",
       "      <td>2</td>\n",
       "      <td>politics</td>\n",
       "      <td>mutant book win guardian prize a book about th...</td>\n",
       "    </tr>\n",
       "    <tr>\n",
       "      <th>1</th>\n",
       "      <td>3</td>\n",
       "      <td>sport</td>\n",
       "      <td>run around the olymp it wa back to offici duti...</td>\n",
       "    </tr>\n",
       "    <tr>\n",
       "      <th>2</th>\n",
       "      <td>1</td>\n",
       "      <td>entertainment</td>\n",
       "      <td>parker miss england clash tom shanklin will st...</td>\n",
       "    </tr>\n",
       "    <tr>\n",
       "      <th>3</th>\n",
       "      <td>1</td>\n",
       "      <td>entertainment</td>\n",
       "      <td>munster cup tie switch to spain munster s hein...</td>\n",
       "    </tr>\n",
       "    <tr>\n",
       "      <th>4</th>\n",
       "      <td>4</td>\n",
       "      <td>tech</td>\n",
       "      <td>cyber crime boom in 2004 the last 12 month hav...</td>\n",
       "    </tr>\n",
       "  </tbody>\n",
       "</table>\n",
       "</div>"
      ],
      "text/plain": [
       "   value       category                                               text\n",
       "0      2       politics  mutant book win guardian prize a book about th...\n",
       "1      3          sport  run around the olymp it wa back to offici duti...\n",
       "2      1  entertainment  parker miss england clash tom shanklin will st...\n",
       "3      1  entertainment  munster cup tie switch to spain munster s hein...\n",
       "4      4           tech  cyber crime boom in 2004 the last 12 month hav..."
      ]
     },
     "execution_count": 405,
     "metadata": {},
     "output_type": "execute_result"
    }
   ],
   "source": [
    "data.head()"
   ]
  },
  {
   "cell_type": "code",
   "execution_count": 406,
   "id": "964bf56d-ce55-41a6-8dee-0ac1c49eb5cb",
   "metadata": {},
   "outputs": [],
   "source": [
    "#تطبيق tokenization على عمود محدد\n",
    "data['tokens'] = data['text'].apply(word_tokenize)"
   ]
  },
  {
   "cell_type": "code",
   "execution_count": 407,
   "id": "378f7086-d344-4b36-a82b-e31645d1dbfa",
   "metadata": {},
   "outputs": [
    {
     "data": {
      "text/html": [
       "<div>\n",
       "<style scoped>\n",
       "    .dataframe tbody tr th:only-of-type {\n",
       "        vertical-align: middle;\n",
       "    }\n",
       "\n",
       "    .dataframe tbody tr th {\n",
       "        vertical-align: top;\n",
       "    }\n",
       "\n",
       "    .dataframe thead th {\n",
       "        text-align: right;\n",
       "    }\n",
       "</style>\n",
       "<table border=\"1\" class=\"dataframe\">\n",
       "  <thead>\n",
       "    <tr style=\"text-align: right;\">\n",
       "      <th></th>\n",
       "      <th>value</th>\n",
       "      <th>category</th>\n",
       "      <th>text</th>\n",
       "      <th>tokens</th>\n",
       "    </tr>\n",
       "  </thead>\n",
       "  <tbody>\n",
       "    <tr>\n",
       "      <th>0</th>\n",
       "      <td>2</td>\n",
       "      <td>politics</td>\n",
       "      <td>mutant book win guardian prize a book about th...</td>\n",
       "      <td>[mutant, book, win, guardian, prize, a, book, ...</td>\n",
       "    </tr>\n",
       "    <tr>\n",
       "      <th>1</th>\n",
       "      <td>3</td>\n",
       "      <td>sport</td>\n",
       "      <td>run around the olymp it wa back to offici duti...</td>\n",
       "      <td>[run, around, the, olymp, it, wa, back, to, of...</td>\n",
       "    </tr>\n",
       "    <tr>\n",
       "      <th>2</th>\n",
       "      <td>1</td>\n",
       "      <td>entertainment</td>\n",
       "      <td>parker miss england clash tom shanklin will st...</td>\n",
       "      <td>[parker, miss, england, clash, tom, shanklin, ...</td>\n",
       "    </tr>\n",
       "    <tr>\n",
       "      <th>3</th>\n",
       "      <td>1</td>\n",
       "      <td>entertainment</td>\n",
       "      <td>munster cup tie switch to spain munster s hein...</td>\n",
       "      <td>[munster, cup, tie, switch, to, spain, munster...</td>\n",
       "    </tr>\n",
       "    <tr>\n",
       "      <th>4</th>\n",
       "      <td>4</td>\n",
       "      <td>tech</td>\n",
       "      <td>cyber crime boom in 2004 the last 12 month hav...</td>\n",
       "      <td>[cyber, crime, boom, in, 2004, the, last, 12, ...</td>\n",
       "    </tr>\n",
       "  </tbody>\n",
       "</table>\n",
       "</div>"
      ],
      "text/plain": [
       "   value       category                                               text  \\\n",
       "0      2       politics  mutant book win guardian prize a book about th...   \n",
       "1      3          sport  run around the olymp it wa back to offici duti...   \n",
       "2      1  entertainment  parker miss england clash tom shanklin will st...   \n",
       "3      1  entertainment  munster cup tie switch to spain munster s hein...   \n",
       "4      4           tech  cyber crime boom in 2004 the last 12 month hav...   \n",
       "\n",
       "                                              tokens  \n",
       "0  [mutant, book, win, guardian, prize, a, book, ...  \n",
       "1  [run, around, the, olymp, it, wa, back, to, of...  \n",
       "2  [parker, miss, england, clash, tom, shanklin, ...  \n",
       "3  [munster, cup, tie, switch, to, spain, munster...  \n",
       "4  [cyber, crime, boom, in, 2004, the, last, 12, ...  "
      ]
     },
     "execution_count": 407,
     "metadata": {},
     "output_type": "execute_result"
    }
   ],
   "source": [
    "data.head()"
   ]
  },
  {
   "cell_type": "code",
   "execution_count": 408,
   "id": "9999c57a-2379-4de1-9226-83d617978a0a",
   "metadata": {},
   "outputs": [],
   "source": [
    "#تحديد stop words للغة الانجليزية\n",
    "stop_words = set(stopwords.words('english'))\n",
    "\n",
    "#ازالة stop words\n",
    "def remove_stop_words(tokens):\n",
    "    return [word for word in tokens if word not in stop_words]\n",
    "\n",
    "#تنفيذ الـ fanction على عمود tokens\n",
    "data['tokens'] = data['tokens'].apply(remove_stop_words)"
   ]
  },
  {
   "cell_type": "code",
   "execution_count": 428,
   "id": "64e3dbb6-0cb0-419c-9ba5-a34a88e39d60",
   "metadata": {},
   "outputs": [
    {
     "data": {
      "text/html": [
       "<div>\n",
       "<style scoped>\n",
       "    .dataframe tbody tr th:only-of-type {\n",
       "        vertical-align: middle;\n",
       "    }\n",
       "\n",
       "    .dataframe tbody tr th {\n",
       "        vertical-align: top;\n",
       "    }\n",
       "\n",
       "    .dataframe thead th {\n",
       "        text-align: right;\n",
       "    }\n",
       "</style>\n",
       "<table border=\"1\" class=\"dataframe\">\n",
       "  <thead>\n",
       "    <tr style=\"text-align: right;\">\n",
       "      <th></th>\n",
       "      <th>value</th>\n",
       "      <th>category</th>\n",
       "      <th>text</th>\n",
       "      <th>tokens</th>\n",
       "    </tr>\n",
       "  </thead>\n",
       "  <tbody>\n",
       "    <tr>\n",
       "      <th>0</th>\n",
       "      <td>2</td>\n",
       "      <td>politics</td>\n",
       "      <td>mutant book win guardian prize a book about th...</td>\n",
       "      <td>[mutant, book, win, guardian, prize, book, evo...</td>\n",
       "    </tr>\n",
       "    <tr>\n",
       "      <th>1</th>\n",
       "      <td>3</td>\n",
       "      <td>sport</td>\n",
       "      <td>run around the olymp it wa back to offici duti...</td>\n",
       "      <td>[run, around, olymp, wa, back, offici, duti, l...</td>\n",
       "    </tr>\n",
       "    <tr>\n",
       "      <th>2</th>\n",
       "      <td>1</td>\n",
       "      <td>entertainment</td>\n",
       "      <td>parker miss england clash tom shanklin will st...</td>\n",
       "      <td>[parker, miss, england, clash, tom, shanklin, ...</td>\n",
       "    </tr>\n",
       "    <tr>\n",
       "      <th>3</th>\n",
       "      <td>1</td>\n",
       "      <td>entertainment</td>\n",
       "      <td>munster cup tie switch to spain munster s hein...</td>\n",
       "      <td>[munster, cup, tie, switch, spain, munster, he...</td>\n",
       "    </tr>\n",
       "    <tr>\n",
       "      <th>4</th>\n",
       "      <td>4</td>\n",
       "      <td>tech</td>\n",
       "      <td>cyber crime boom in 2004 the last 12 month hav...</td>\n",
       "      <td>[cyber, crime, boom, 2004, last, 12, month, se...</td>\n",
       "    </tr>\n",
       "  </tbody>\n",
       "</table>\n",
       "</div>"
      ],
      "text/plain": [
       "   value       category                                               text  \\\n",
       "0      2       politics  mutant book win guardian prize a book about th...   \n",
       "1      3          sport  run around the olymp it wa back to offici duti...   \n",
       "2      1  entertainment  parker miss england clash tom shanklin will st...   \n",
       "3      1  entertainment  munster cup tie switch to spain munster s hein...   \n",
       "4      4           tech  cyber crime boom in 2004 the last 12 month hav...   \n",
       "\n",
       "                                              tokens  \n",
       "0  [mutant, book, win, guardian, prize, book, evo...  \n",
       "1  [run, around, olymp, wa, back, offici, duti, l...  \n",
       "2  [parker, miss, england, clash, tom, shanklin, ...  \n",
       "3  [munster, cup, tie, switch, spain, munster, he...  \n",
       "4  [cyber, crime, boom, 2004, last, 12, month, se...  "
      ]
     },
     "execution_count": 428,
     "metadata": {},
     "output_type": "execute_result"
    }
   ],
   "source": [
    "data.head()"
   ]
  },
  {
   "cell_type": "code",
   "execution_count": 430,
   "id": "ad314a07-8400-4da0-a922-7dee25d08f6e",
   "metadata": {},
   "outputs": [],
   "source": [
    "data.to_excel('C:\\\\Users\\\\hp\\\\Desktop\\\\‏‏‏‏BBC news 3.xlsx', index=False)"
   ]
  }
 ],
 "metadata": {
  "kernelspec": {
   "display_name": "Python 3 (ipykernel)",
   "language": "python",
   "name": "python3"
  },
  "language_info": {
   "codemirror_mode": {
    "name": "ipython",
    "version": 3
   },
   "file_extension": ".py",
   "mimetype": "text/x-python",
   "name": "python",
   "nbconvert_exporter": "python",
   "pygments_lexer": "ipython3",
   "version": "3.12.4"
  }
 },
 "nbformat": 4,
 "nbformat_minor": 5
}
