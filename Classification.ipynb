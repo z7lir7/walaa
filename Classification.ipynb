{
 "cells": [
  {
   "cell_type": "code",
   "execution_count": 2,
   "id": "5c9ab40c-b22e-4840-9052-59c788f5721c",
   "metadata": {},
   "outputs": [
    {
     "name": "stdout",
     "output_type": "stream",
     "text": [
      "Requirement already satisfied: pandas in c:\\users\\hp\\anaconda3\\lib\\site-packages (2.2.2)\n",
      "Requirement already satisfied: scikit-learn in c:\\users\\hp\\anaconda3\\lib\\site-packages (1.4.2)\n",
      "Requirement already satisfied: openpyxl in c:\\users\\hp\\anaconda3\\lib\\site-packages (3.1.2)\n",
      "Requirement already satisfied: numpy>=1.26.0 in c:\\users\\hp\\anaconda3\\lib\\site-packages (from pandas) (1.26.4)\n",
      "Requirement already satisfied: python-dateutil>=2.8.2 in c:\\users\\hp\\anaconda3\\lib\\site-packages (from pandas) (2.9.0.post0)\n",
      "Requirement already satisfied: pytz>=2020.1 in c:\\users\\hp\\anaconda3\\lib\\site-packages (from pandas) (2024.1)\n",
      "Requirement already satisfied: tzdata>=2022.7 in c:\\users\\hp\\anaconda3\\lib\\site-packages (from pandas) (2023.3)\n",
      "Requirement already satisfied: scipy>=1.6.0 in c:\\users\\hp\\anaconda3\\lib\\site-packages (from scikit-learn) (1.13.1)\n",
      "Requirement already satisfied: joblib>=1.2.0 in c:\\users\\hp\\anaconda3\\lib\\site-packages (from scikit-learn) (1.4.2)\n",
      "Requirement already satisfied: threadpoolctl>=2.0.0 in c:\\users\\hp\\anaconda3\\lib\\site-packages (from scikit-learn) (2.2.0)\n",
      "Requirement already satisfied: et-xmlfile in c:\\users\\hp\\anaconda3\\lib\\site-packages (from openpyxl) (1.1.0)\n",
      "Requirement already satisfied: six>=1.5 in c:\\users\\hp\\anaconda3\\lib\\site-packages (from python-dateutil>=2.8.2->pandas) (1.16.0)\n",
      "Note: you may need to restart the kernel to use updated packages.\n"
     ]
    }
   ],
   "source": [
    "pip install pandas scikit-learn openpyxl"
   ]
  },
  {
   "cell_type": "code",
   "execution_count": 1,
   "id": "d6712e6d-f6b4-42b1-8035-8e11c4296208",
   "metadata": {},
   "outputs": [],
   "source": [
    "import pandas as pd\n",
    "from sklearn.feature_extraction.text import CountVectorizer, TfidfVectorizer\n",
    "from sklearn.model_selection import train_test_split\n",
    "from sklearn.svm import SVC\n",
    "from sklearn.naive_bayes import MultinomialNB\n",
    "from sklearn.ensemble import RandomForestClassifier\n",
    "from sklearn.metrics import accuracy_score, classification_report"
   ]
  },
  {
   "cell_type": "code",
   "execution_count": 5,
   "id": "82fc047f-5f2f-4a94-82a1-5f96818f54d1",
   "metadata": {},
   "outputs": [
    {
     "name": "stdout",
     "output_type": "stream",
     "text": [
      "SVM Accuracy: 0.17303370786516853\n",
      "Naive Bayes Accuracy: 0.19775280898876405\n",
      "Random Forest Accuracy: 0.1842696629213483\n",
      "\n",
      "SVM Classification Report:\n",
      "                precision    recall  f1-score   support\n",
      "\n",
      "     business       0.23      0.21      0.22       120\n",
      "entertainment       0.08      0.06      0.07        71\n",
      "     politics       0.17      0.17      0.17        75\n",
      "        sport       0.18      0.29      0.22        96\n",
      "         tech       0.14      0.08      0.10        83\n",
      "\n",
      "     accuracy                           0.17       445\n",
      "    macro avg       0.16      0.16      0.16       445\n",
      " weighted avg       0.17      0.17      0.17       445\n",
      "\n",
      "\n",
      "Naive Bayes Classification Report:\n",
      "                precision    recall  f1-score   support\n",
      "\n",
      "     business       0.22      0.26      0.24       120\n",
      "entertainment       0.12      0.03      0.05        71\n",
      "     politics       0.17      0.13      0.15        75\n",
      "        sport       0.21      0.45      0.28        96\n",
      "         tech       0.08      0.02      0.04        83\n",
      "\n",
      "     accuracy                           0.20       445\n",
      "    macro avg       0.16      0.18      0.15       445\n",
      " weighted avg       0.17      0.20      0.17       445\n",
      "\n",
      "\n",
      "Random Forest Classification Report:\n",
      "                precision    recall  f1-score   support\n",
      "\n",
      "     business       0.24      0.28      0.26       120\n",
      "entertainment       0.08      0.06      0.07        71\n",
      "     politics       0.13      0.09      0.11        75\n",
      "        sport       0.19      0.31      0.24        96\n",
      "         tech       0.19      0.10      0.13        83\n",
      "\n",
      "     accuracy                           0.18       445\n",
      "    macro avg       0.16      0.17      0.16       445\n",
      " weighted avg       0.17      0.18      0.17       445\n",
      "\n"
     ]
    }
   ],
   "source": [
    "# قراءة البيانات من ملف Excel\n",
    "file_path = r'C:\\Users\\hp\\Desktop\\Data Pr-prossing.xlsx'  # تأكد من تعديل المسار حسب الحاجة\n",
    "data = pd.read_excel(file_path)\n",
    "\n",
    "# افترض أن العمود الذي يحتوي على النص هو \"final_result\" والعمود المستهدف هو \"label\"\n",
    "X = data['final_result']  # النصوص\n",
    "y = data['category']  # التسميات (تأكد من وجود عمود التسميات)\n",
    "\n",
    "# تقسيم البيانات إلى مجموعة تدريب ومجموعة اختبار\n",
    "X_train, X_test, y_train, y_test = train_test_split(X, y, test_size=0.2, random_state=42)\n",
    "\n",
    "# تحويل النصوص إلى ميزات باستخدام TF-IDF\n",
    "tfidf_vectorizer = TfidfVectorizer(max_features=1000)\n",
    "X_train_tfidf = tfidf_vectorizer.fit_transform(X_train)\n",
    "X_test_tfidf = tfidf_vectorizer.transform(X_test)\n",
    "\n",
    "# تصنيف باستخدام SVM\n",
    "svm_model = SVC(kernel='linear')  # يمكنك تعديل النواة حسب الحاجة\n",
    "svm_model.fit(X_train_tfidf, y_train)\n",
    "svm_predictions = svm_model.predict(X_test_tfidf)\n",
    "\n",
    "# تصنيف باستخدام Naive Bayes\n",
    "nb_model = MultinomialNB()\n",
    "nb_model.fit(X_train_tfidf, y_train)\n",
    "nb_predictions = nb_model.predict(X_test_tfidf)\n",
    "\n",
    "# تصنيف باستخدام Random Forest\n",
    "rf_model = RandomForestClassifier(n_estimators=100, random_state=42)\n",
    "rf_model.fit(X_train_tfidf, y_train)\n",
    "rf_predictions = rf_model.predict(X_test_tfidf)\n",
    "\n",
    "# تقييم النماذج\n",
    "print(\"SVM Accuracy:\", accuracy_score(y_test, svm_predictions))\n",
    "print(\"Naive Bayes Accuracy:\", accuracy_score(y_test, nb_predictions))\n",
    "print(\"Random Forest Accuracy:\", accuracy_score(y_test, rf_predictions))\n",
    "\n",
    "# طباعة تقرير التصنيف\n",
    "print(\"\\nSVM Classification Report:\\n\", classification_report(y_test, svm_predictions))\n",
    "print(\"\\nNaive Bayes Classification Report:\\n\", classification_report(y_test, nb_predictions))\n",
    "print(\"\\nRandom Forest Classification Report:\\n\", classification_report(y_test, rf_predictions))"
   ]
  },
  {
   "cell_type": "code",
   "execution_count": null,
   "id": "c0b5b2cc-6e1b-475a-875a-d1ae1d887037",
   "metadata": {},
   "outputs": [],
   "source": []
  }
 ],
 "metadata": {
  "kernelspec": {
   "display_name": "Python 3 (ipykernel)",
   "language": "python",
   "name": "python3"
  },
  "language_info": {
   "codemirror_mode": {
    "name": "ipython",
    "version": 3
   },
   "file_extension": ".py",
   "mimetype": "text/x-python",
   "name": "python",
   "nbconvert_exporter": "python",
   "pygments_lexer": "ipython3",
   "version": "3.12.4"
  }
 },
 "nbformat": 4,
 "nbformat_minor": 5
}
