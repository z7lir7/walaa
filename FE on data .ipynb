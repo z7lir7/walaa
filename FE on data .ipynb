{
 "cells": [
  {
   "cell_type": "code",
   "execution_count": 14,
   "id": "24a1e2c4-f0bf-4383-8500-ab381e431f92",
   "metadata": {},
   "outputs": [
    {
     "name": "stdout",
     "output_type": "stream",
     "text": [
      "Requirement already satisfied: pandas in c:\\users\\hp\\anaconda3\\lib\\site-packages (2.2.2)\n",
      "Requirement already satisfied: scikit-learn in c:\\users\\hp\\anaconda3\\lib\\site-packages (1.4.2)\n",
      "Requirement already satisfied: openpyxl in c:\\users\\hp\\anaconda3\\lib\\site-packages (3.1.2)\n",
      "Requirement already satisfied: numpy>=1.26.0 in c:\\users\\hp\\anaconda3\\lib\\site-packages (from pandas) (1.26.4)\n",
      "Requirement already satisfied: python-dateutil>=2.8.2 in c:\\users\\hp\\anaconda3\\lib\\site-packages (from pandas) (2.9.0.post0)\n",
      "Requirement already satisfied: pytz>=2020.1 in c:\\users\\hp\\anaconda3\\lib\\site-packages (from pandas) (2024.1)\n",
      "Requirement already satisfied: tzdata>=2022.7 in c:\\users\\hp\\anaconda3\\lib\\site-packages (from pandas) (2023.3)\n",
      "Requirement already satisfied: scipy>=1.6.0 in c:\\users\\hp\\anaconda3\\lib\\site-packages (from scikit-learn) (1.13.1)\n",
      "Requirement already satisfied: joblib>=1.2.0 in c:\\users\\hp\\anaconda3\\lib\\site-packages (from scikit-learn) (1.4.2)\n",
      "Requirement already satisfied: threadpoolctl>=2.0.0 in c:\\users\\hp\\anaconda3\\lib\\site-packages (from scikit-learn) (2.2.0)\n",
      "Requirement already satisfied: et-xmlfile in c:\\users\\hp\\anaconda3\\lib\\site-packages (from openpyxl) (1.1.0)\n",
      "Requirement already satisfied: six>=1.5 in c:\\users\\hp\\anaconda3\\lib\\site-packages (from python-dateutil>=2.8.2->pandas) (1.16.0)\n",
      "Note: you may need to restart the kernel to use updated packages.\n"
     ]
    }
   ],
   "source": [
    "pip install pandas scikit-learn openpyxl"
   ]
  },
  {
   "cell_type": "code",
   "execution_count": 3,
   "id": "74985119-91c3-44a2-b560-15c5e4882330",
   "metadata": {},
   "outputs": [],
   "source": [
    "import pandas as pd\n",
    "from sklearn.feature_extraction.text import CountVectorizer, TfidfVectorizer"
   ]
  },
  {
   "cell_type": "code",
   "execution_count": 5,
   "id": "34c7eedd-637a-4a92-91ac-ff498870ec7b",
   "metadata": {},
   "outputs": [
    {
     "name": "stdout",
     "output_type": "stream",
     "text": [
      "تم حفظ ميزات Bag of Words وTF-IDF في الملف: C:\\Users\\hp\\Desktop\\FE.xlsx\n"
     ]
    }
   ],
   "source": [
    "# قراءة البيانات من ملف Excel\n",
    "file_path = r'C:\\Users\\hp\\Desktop\\Data Pr-prossing.xlsx' # تأكد من تعديل المسار حسب الحاجة\n",
    "data = pd.read_excel(file_path)\n",
    "\n",
    "# افترض أن العمود الذي يحتوي على النص هو \"final_result\"\n",
    "# تأكد من أن العمود موجود\n",
    "data['final_result'] = data['final_result']  # تأكد من أن العمود موجود\n",
    "\n",
    "# استخراج الميزات باستخدام Bag of Words\n",
    "bow_vectorizer = CountVectorizer(max_features=1000)  # يمكنك تعديل العدد حسب الحاجة\n",
    "bow_matrix = bow_vectorizer.fit_transform(data['final_result'])\n",
    "bow_df = pd.DataFrame(bow_matrix.toarray(), columns=bow_vectorizer.get_feature_names_out())\n",
    "\n",
    "# استخراج الميزات باستخدام TF-IDF\n",
    "tfidf_vectorizer = TfidfVectorizer(max_features=1000)  # يمكنك تعديل العدد حسب الحاجة\n",
    "tfidf_matrix = tfidf_vectorizer.fit_transform(data['final_result'])\n",
    "tfidf_df = pd.DataFrame(tfidf_matrix.toarray(), columns=tfidf_vectorizer.get_feature_names_out())\n",
    "\n",
    "# دمج الميزات في DataFrame واحد\n",
    "combined_df = pd.concat([data[['final_result']], bow_df, tfidf_df], axis=1)\n",
    "\n",
    "# حفظ الميزات في ملف Excel واحد\n",
    "output_file = r'C:\\Users\\hp\\Desktop\\FE.xlsx'  # تأكد من تعديل المسار حسب الحاجة\n",
    "combined_df.to_excel(output_file, index=False)\n",
    "\n",
    "print(\"تم حفظ ميزات Bag of Words وTF-IDF في الملف:\", output_file)"
   ]
  },
  {
   "cell_type": "code",
   "execution_count": null,
   "id": "d1d6e48b-ffb6-4847-bc67-5a13ba5bc68e",
   "metadata": {},
   "outputs": [],
   "source": []
  }
 ],
 "metadata": {
  "kernelspec": {
   "display_name": "Python 3 (ipykernel)",
   "language": "python",
   "name": "python3"
  },
  "language_info": {
   "codemirror_mode": {
    "name": "ipython",
    "version": 3
   },
   "file_extension": ".py",
   "mimetype": "text/x-python",
   "name": "python",
   "nbconvert_exporter": "python",
   "pygments_lexer": "ipython3",
   "version": "3.12.4"
  }
 },
 "nbformat": 4,
 "nbformat_minor": 5
}
